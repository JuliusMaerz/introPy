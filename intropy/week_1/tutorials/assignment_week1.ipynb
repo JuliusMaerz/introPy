{
 "cells": [
  {
   "cell_type": "markdown",
   "metadata": {},
   "source": [
    "# Assignment week 1\n",
    "You're a master student doing your thesis in the lab of Jane Doe, a brilliant professor investigating ... You wanted to work with her because you're specifically interested in the effect of ... on ... Instead of collecting data yourself, professor Doe suggests you use an existing dataset collected by a former PhD student from the lab. On Friday afternoon, you get the data &mdash; text files with data from 10 participants &mdash; and professor Doe asks you whether you'd like to present some initial exploratory analyses of the data in the upcoming lab meeting ... which is in three hours! Ambitious as you are, you agree. \n",
    "\n",
    "But upon initial inspection of the data, you find out that the former PhD student didn't really excel in terms of organizational skills. The text files contain typos, lots of missing data, and inconsistent naming. \n",
    "\n",
    "### What to do?\n",
    "Go through this notebook and (try to) do all *ToDos* which are, unlike the tutorials, graded. In total, you can get ... points for this notebook.\n",
    "\n",
    "### Tips & tricks\n",
    "* The last two exercises are substantially harder than the others; make sure you finish the other exercises first!\n",
    "* It may be easier to first get your code working for one participant before processing all participants!"
   ]
  },
  {
   "cell_type": "markdown",
   "metadata": {},
   "source": [
    "## Inspecting the data"
   ]
  },
  {
   "cell_type": "markdown",
   "metadata": {},
   "source": [
    "## Preprocessing the data"
   ]
  },
  {
   "cell_type": "markdown",
   "metadata": {},
   "source": [
    "## Analyzing the data"
   ]
  },
  {
   "cell_type": "markdown",
   "metadata": {},
   "source": [
    "## Plotting the data"
   ]
  }
 ],
 "metadata": {
  "kernelspec": {
   "display_name": "Python 3",
   "language": "python",
   "name": "python3"
  },
  "language_info": {
   "codemirror_mode": {
    "name": "ipython",
    "version": 3
   },
   "file_extension": ".py",
   "mimetype": "text/x-python",
   "name": "python",
   "nbconvert_exporter": "python",
   "pygments_lexer": "ipython3",
   "version": "3.8.5"
  }
 },
 "nbformat": 4,
 "nbformat_minor": 4
}
